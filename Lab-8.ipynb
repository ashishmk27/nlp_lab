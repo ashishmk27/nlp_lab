{
 "cells": [
  {
   "cell_type": "markdown",
   "metadata": {},
   "source": [
    "### Social Media Slang Standardization in Python\n"
   ]
  },
  {
   "cell_type": "code",
   "execution_count": null,
   "metadata": {},
   "outputs": [],
   "source": [
    "import re\n",
    "\n",
    "# Dictionary for slang replacement\n",
    "slang_dict = {\n",
    "    \"u\": \"you\",\n",
    "    \"ur\": \"your\",\n",
    "    \"idk\": \"I don't know\",\n",
    "    \"brb\": \"be right back\",\n",
    "    \"btw\": \"by the way\",\n",
    "    \"lol\": \"laugh out loud\",\n",
    "    \"omg\": \"oh my god\",\n",
    "    \"tbh\": \"to be honest\",\n",
    "    \"smh\": \"shaking my head\",\n",
    "    \"gr8\": \"great\",\n",
    "    \"thx\": \"thanks\",\n",
    "    \"b4\": \"before\",\n",
    "    \"lmk\": \"let me know\",\n",
    "    \"imo\": \"in my opinion\",\n",
    "    \"ttyl\": \"talk to you later\"\n",
    "}\n",
    "\n",
    "def standardize_text(text):\n",
    "    words = text.split()\n",
    "    standardized_words = [slang_dict.get(word.lower(), word) for word in words]  # Replace slang if found\n",
    "    return \" \".join(standardized_words)\n",
    "\n",
    "# Sample text\n",
    "text = \"idk what u mean lol, but thx for the help. ttyl!\"\n",
    "standardized_text = standardize_text(text)\n",
    "\n",
    "print(f\"Original: {text}\")\n",
    "print(f\"Standardized: {standardized_text}\")\n"
   ]
  },
  {
   "cell_type": "markdown",
   "metadata": {},
   "source": [
    "### 1.Replace Slang, Abbreviations & Emojis"
   ]
  },
  {
   "cell_type": "code",
   "execution_count": null,
   "metadata": {},
   "outputs": [
    {
     "name": "stdout",
     "output_type": "stream",
     "text": [
      "Original: OMG 😂 ur gr8!!! thx for the help ❤️\n",
      "Processed: oh my god laughing your gr8!!! thanks for the help love\n"
     ]
    }
   ],
   "source": [
    "import re\n",
    "\n",
    "# Dictionary for slang replacements\n",
    "slang_dict = {\n",
    "    \"u\": \"you\",\n",
    "    \"ur\": \"your\",\n",
    "    \"idk\": \"I don't know\",\n",
    "    \"brb\": \"be right back\",\n",
    "    \"btw\": \"by the way\",\n",
    "    \"lol\": \"laugh out loud\",\n",
    "    \"omg\": \"oh my god\",\n",
    "    \"tbh\": \"to be honest\",\n",
    "    \"smh\": \"shaking my head\",\n",
    "    \"gr8\": \"great\",\n",
    "    \"thx\": \"thanks\",\n",
    "    \"b4\": \"before\",\n",
    "    \"lmk\": \"let me know\",\n",
    "    \"imo\": \"in my opinion\",\n",
    "    \"ttyl\": \"talk to you later\"\n",
    "}\n",
    "\n",
    "# Dictionary for emoji replacements\n",
    "emoji_dict = {\n",
    "    \"😊\": \"happy face\",\n",
    "    \"😂\": \"laughing\",\n",
    "    \"🔥\": \"fire\",\n",
    "    \"💯\": \"hundred percent\",\n",
    "    \"🚀\": \"rocket\",\n",
    "    \"👍\": \"thumbs up\",\n",
    "    \"😢\": \"sad face\",\n",
    "    \"😡\": \"angry face\",\n",
    "    \"❤️\": \"love\",\n",
    "    \"🙏\": \"praying hands\"\n",
    "}\n",
    "\n",
    "def replace_slang_and_emojis(text):\n",
    "    # Replace slang words\n",
    "    words = text.split()\n",
    "    words = [slang_dict.get(word.lower(), word) for word in words]\n",
    "    text = \" \".join(words)\n",
    "\n",
    "    # Replace emojis\n",
    "    for emoji, meaning in emoji_dict.items():\n",
    "        text = text.replace(emoji, meaning)\n",
    "\n",
    "    return text\n",
    "\n",
    "# **Test Case**\n",
    "text = \"OMG 😂 ur gr8!!! thx for the help ❤️\"\n",
    "result = replace_slang_and_emojis(text)\n",
    "print(f\"Original: {text}\")\n",
    "print(f\"Processed: {result}\")\n"
   ]
  },
  {
   "cell_type": "code",
   "execution_count": null,
   "metadata": {},
   "outputs": [
    {
     "name": "stdout",
     "output_type": "stream",
     "text": [
      "Original: OMG!!! This is AMAZING!! 😍     Can't believe it!!!\n",
      "Normalized: omg! this is amazing! 😍 can't believe it!\n"
     ]
    }
   ],
   "source": [
    "import re\n",
    "\n",
    "def normalize_text(text):\n",
    "    # Normalize excessive punctuation (e.g., \"hello!!!\" → \"hello!\")\n",
    "    text = re.sub(r'([!?.,])\\1+', r'\\1', text)\n",
    "\n",
    "    # Remove extra spaces\n",
    "    text = re.sub(r'\\s+', ' ', text).strip()\n",
    "\n",
    "    # Convert to lowercase\n",
    "    text = text.lower()\n",
    "\n",
    "    return text\n",
    "\n",
    "# **Test Case**\n",
    "text = \"OMG!!! This is AMAZING!! 😍     Can't believe it!!!\"\n",
    "normalized_text = normalize_text(text)\n",
    "print(f\"Original: {text}\")\n",
    "print(f\"Normalized: {normalized_text}\")\n"
   ]
  }
 ],
 "metadata": {
  "language_info": {
   "name": "python"
  }
 },
 "nbformat": 4,
 "nbformat_minor": 2
}

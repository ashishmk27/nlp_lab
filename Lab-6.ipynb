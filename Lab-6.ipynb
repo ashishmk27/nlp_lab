{
 "cells": [
  {
   "cell_type": "markdown",
   "metadata": {},
   "source": [
    " ### demonstration of noise removal from textual data  including removing regular expressions like hashtags:"
   ]
  },
  {
   "cell_type": "markdown",
   "metadata": {},
   "source": []
  },
  {
   "cell_type": "code",
   "execution_count": 1,
   "metadata": {},
   "outputs": [
    {
     "name": "stdout",
     "output_type": "stream",
     "text": [
      "This is a  tweet Visit  for details Contact me at\n"
     ]
    }
   ],
   "source": [
    "import re\n",
    "\n",
    "# Sample noisy text\n",
    "text = \"This is a #sample tweet! Visit https://example.com for details. Contact me at example@email.com\"\n",
    "\n",
    "# Remove hashtags\n",
    "text = re.sub(r\"#\\w+\", \"\", text)\n",
    "\n",
    "# Remove URLs\n",
    "text = re.sub(r\"http\\S+|www\\S+\", \"\", text)\n",
    "\n",
    "# Remove email addresses\n",
    "text = re.sub(r\"\\S+@\\S+\", \"\", text)\n",
    "\n",
    "# Remove special characters and extra spaces\n",
    "text = re.sub(r\"[^A-Za-z0-9 ]+\", \"\", text).strip()\n",
    "\n",
    "print(text)\n"
   ]
  },
  {
   "cell_type": "markdown",
   "metadata": {},
   "source": [
    "### 1. Remove Emoticons & Emojis"
   ]
  },
  {
   "cell_type": "code",
   "execution_count": 3,
   "metadata": {},
   "outputs": [
    {
     "name": "stdout",
     "output_type": "stream",
     "text": [
      "Hello , this is a test! \n"
     ]
    }
   ],
   "source": [
    "import re\n",
    "\n",
    "def remove_emojis(text):\n",
    "    emoji_pattern = re.compile(\n",
    "        \"[\"\n",
    "        \"\\U0001F600-\\U0001F64F\"  # Emoticons\n",
    "        \"\\U0001F300-\\U0001F5FF\"  # Symbols & pictographs\n",
    "        \"\\U0001F680-\\U0001F6FF\"  # Transport & map symbols\n",
    "        \"\\U0001F700-\\U0001F77F\"  # Alchemical symbols\n",
    "        \"\\U0001F780-\\U0001F7FF\"  # Geometric symbols\n",
    "        \"\\U0001F800-\\U0001F8FF\"  # Supplemental symbols\n",
    "        \"\\U0001F900-\\U0001F9FF\"  # Supplemental symbols & pictographs\n",
    "        \"\\U0001FA00-\\U0001FA6F\"  # Chess symbols\n",
    "        \"\\U0001FA70-\\U0001FAFF\"  # Other symbols\n",
    "        \"\\U00002702-\\U000027B0\"  # Dingbats\n",
    "        \"]+\",\n",
    "        flags=re.UNICODE\n",
    "    )\n",
    "    return emoji_pattern.sub(r'', text)\n",
    "\n",
    "text = \"Hello 😊, this is a test! 🚀🔥\"\n",
    "clean_text = remove_emojis(text)\n",
    "print(clean_text)  # Output: Hello , this is a test!\n"
   ]
  },
  {
   "cell_type": "markdown",
   "metadata": {},
   "source": [
    "### 2. Normalize Text (Lowercase & Remove Extra Spaces)"
   ]
  },
  {
   "cell_type": "markdown",
   "metadata": {},
   "source": []
  },
  {
   "cell_type": "code",
   "execution_count": 4,
   "metadata": {},
   "outputs": [
    {
     "name": "stdout",
     "output_type": "stream",
     "text": [
      "this is an example text!\n"
     ]
    }
   ],
   "source": [
    "def normalize_text(text):\n",
    "    return ' '.join(text.lower().split())\n",
    "\n",
    "text = \"  This is   an   EXAMPLE   TEXT!  \"\n",
    "normalized_text = normalize_text(text)\n",
    "print(normalized_text)  # Output: this is an example text!\n"
   ]
  },
  {
   "cell_type": "markdown",
   "metadata": {},
   "source": [
    "### 3.Extract Dates from Mixed Text"
   ]
  },
  {
   "cell_type": "code",
   "execution_count": 5,
   "metadata": {},
   "outputs": [
    {
     "name": "stdout",
     "output_type": "stream",
     "text": [
      "['03/04/2025', 'March 4, 2025', '03-04-2025']\n"
     ]
    }
   ],
   "source": [
    "import re\n",
    "\n",
    "def extract_dates(text):\n",
    "    date_pattern = r'\\b(?:\\d{1,2}/\\d{1,2}/\\d{4}|\\d{1,2}-\\d{1,2}-\\d{4}|\\b(?:Jan|Feb|Mar|Apr|May|Jun|Jul|Aug|Sep|Oct|Nov|Dec)[a-z]* \\d{1,2}, \\d{4})\\b'\n",
    "    return re.findall(date_pattern, text)\n",
    "\n",
    "text = \"Today's date is 03/04/2025. Another format is March 4, 2025 or 03-04-2025.\"\n",
    "dates = extract_dates(text)\n",
    "print(dates)  # Output: ['03/04/2025', 'March 4, 2025', '03-04-2025']\n"
   ]
  },
  {
   "cell_type": "code",
   "execution_count": null,
   "metadata": {},
   "outputs": [],
   "source": []
  }
 ],
 "metadata": {
  "kernelspec": {
   "display_name": "Python 3",
   "language": "python",
   "name": "python3"
  },
  "language_info": {
   "codemirror_mode": {
    "name": "ipython",
    "version": 3
   },
   "file_extension": ".py",
   "mimetype": "text/x-python",
   "name": "python",
   "nbconvert_exporter": "python",
   "pygments_lexer": "ipython3",
   "version": "3.12.7"
  }
 },
 "nbformat": 4,
 "nbformat_minor": 2
}
